{
  "nbformat": 4,
  "nbformat_minor": 0,
  "metadata": {
    "colab": {
      "provenance": []
    },
    "kernelspec": {
      "name": "python3",
      "display_name": "Python 3"
    },
    "language_info": {
      "name": "python"
    }
  },
  "cells": [
    {
      "cell_type": "markdown",
      "source": [
        "**AUTOMATION OF PHOTOGRAMMETRIC PROCESS**"
      ],
      "metadata": {
        "id": "dsCEy3uZy3uM"
      }
    },
    {
      "cell_type": "markdown",
      "source": [
        "\n",
        "\n",
        "*   **AUTHOR: Ives Medeiros Brandão**\n",
        "\n",
        "*   **DATE: 25/08/2022**\n",
        "\n"
      ],
      "metadata": {
        "id": "Mbkij9bqy_3r"
      }
    },
    {
      "cell_type": "markdown",
      "source": [
        "**Import libraries**"
      ],
      "metadata": {
        "id": "Wtkpiz9dzKvD"
      }
    },
    {
      "cell_type": "code",
      "execution_count": 1,
      "metadata": {
        "id": "CYU9ifily2Wu"
      },
      "outputs": [],
      "source": [
        "import numpy as np\n",
        "import matplotlib.pyplot as plt\n",
        "import math"
      ]
    },
    {
      "cell_type": "markdown",
      "source": [
        "**Referece's matrix**"
      ],
      "metadata": {
        "id": "QchSK77gzP2Z"
      }
    },
    {
      "cell_type": "code",
      "source": [
        "\n",
        "matrixR = np.matrix([[48,170],\n",
        "                     [230,78]])\n",
        "\n",
        "\n",
        "#matrixR = np.loadtxt(\"/content/Reference.txt\")"
      ],
      "metadata": {
        "id": "qwQaIYbkzThH"
      },
      "execution_count": 2,
      "outputs": []
    },
    {
      "cell_type": "markdown",
      "source": [
        "**Search's matrix**"
      ],
      "metadata": {
        "id": "OUoMYDREzV5H"
      }
    },
    {
      "cell_type": "code",
      "source": [
        "\n",
        "matrixP = np.matrix([[187,31,230,106],\n",
        "                     [90,45,172,172],\n",
        "                     [231,236,83,183],\n",
        "                     [124,99,153,142]])\n",
        "\n",
        "\n",
        "#matrixP = np.loadtxt(\"/content/Search.txt\")"
      ],
      "metadata": {
        "id": "Zo6jx-BczbIp"
      },
      "execution_count": 3,
      "outputs": []
    },
    {
      "cell_type": "markdown",
      "source": [
        "**Define correlation method**"
      ],
      "metadata": {
        "id": "puYNJPnbze5V"
      }
    },
    {
      "cell_type": "code",
      "source": [
        "#correlation = \"fError\"\n",
        "#correlation = \"fCrossCorrelation\"\n",
        "correlation = \"fQuotient\"\n",
        "#correlation = \"fCrossCovariance\"\n",
        "#correlation = \"fCoeficientCovariance\""
      ],
      "metadata": {
        "id": "yeTyh1coziGN"
      },
      "execution_count": 4,
      "outputs": []
    },
    {
      "cell_type": "markdown",
      "source": [
        "**Get the shape/order from matrix**"
      ],
      "metadata": {
        "id": "jar1_B5Gzliq"
      }
    },
    {
      "cell_type": "code",
      "source": [
        "Cr = matrixR.shape[1]\n",
        "Lr = matrixR.shape[0]\n",
        "\n",
        "Cp = matrixP.shape[1]\n",
        "Lp = matrixP.shape[0]"
      ],
      "metadata": {
        "id": "9P8yBjUBzoad"
      },
      "execution_count": 5,
      "outputs": []
    },
    {
      "cell_type": "markdown",
      "source": [
        "**Calculate alpha and beta**"
      ],
      "metadata": {
        "id": "HJzmABOfzq6T"
      }
    },
    {
      "cell_type": "code",
      "source": [
        "#As the matrix in python starts its positions at `zero`, it is necessary to add a unit\n",
        "#In other languages, like Scilab where poisitions starts at `one`, this process is not necessary.\n",
        "alphas = Lp - Lr + 1\n",
        "betas = Cp - Cr + 1"
      ],
      "metadata": {
        "id": "N1-qgJrT3F0D"
      },
      "execution_count": 6,
      "outputs": []
    },
    {
      "cell_type": "markdown",
      "source": [
        "**Calculate the number of interactions**"
      ],
      "metadata": {
        "id": "yAcK3UohzzyZ"
      }
    },
    {
      "cell_type": "code",
      "source": [
        "interactions = ((betas) * (alphas))"
      ],
      "metadata": {
        "id": "qjtCk9Rbz1uq"
      },
      "execution_count": 7,
      "outputs": []
    },
    {
      "cell_type": "markdown",
      "source": [
        "**Create an empty matrix for correlations**"
      ],
      "metadata": {
        "id": "Ot3RSH-Iz4Jr"
      }
    },
    {
      "cell_type": "code",
      "source": [
        "mCorrelation = np.zeros([alphas, betas])"
      ],
      "metadata": {
        "id": "RHWLc4tcz92Q"
      },
      "execution_count": 8,
      "outputs": []
    },
    {
      "cell_type": "markdown",
      "source": [
        "--------------------------------------------------------------------------------"
      ],
      "metadata": {
        "id": "7deqX44102lZ"
      }
    },
    {
      "cell_type": "markdown",
      "source": [
        "**Declaration of functions for some correlation methods**\n",
        "\n",
        "1.   Error function;\n",
        "2.   Cross - correlation function;\n",
        "3.   Quotient function.\n",
        "\n",
        "\n",
        "\n"
      ],
      "metadata": {
        "id": "OaSckR520Aul"
      }
    },
    {
      "cell_type": "markdown",
      "source": [
        "**Error function**"
      ],
      "metadata": {
        "id": "2FZcloI_0TOJ"
      }
    },
    {
      "cell_type": "code",
      "source": [
        "def fError(j, i, beta, alpha):\n",
        "    cor = abs(matrixR[i,j] - matrixP[i+alpha,j+beta])\n",
        "    return cor"
      ],
      "metadata": {
        "id": "iVVR5j2W0tPr"
      },
      "execution_count": 9,
      "outputs": []
    },
    {
      "cell_type": "markdown",
      "source": [
        "**Cross - correlation function**"
      ],
      "metadata": {
        "id": "meSR5uzt0eWE"
      }
    },
    {
      "cell_type": "code",
      "source": [
        "def fCrossCorrelation(j, i, beta, alpha):\n",
        "    cor = (matrixR[i,j]) * (matrixP[i+alpha,j+beta])\n",
        "    return cor"
      ],
      "metadata": {
        "id": "B0D1q40k0u__"
      },
      "execution_count": 10,
      "outputs": []
    },
    {
      "cell_type": "markdown",
      "source": [
        "**Quotient function**"
      ],
      "metadata": {
        "id": "hdwjr-oT0gt9"
      }
    },
    {
      "cell_type": "code",
      "source": [
        "def fQuotient(j, i, beta, alpha):\n",
        "    cor = (matrixP[i+alpha,j+beta])/(matrixR[i,j])\n",
        "    return cor"
      ],
      "metadata": {
        "id": "1g_R8wAc0v5O"
      },
      "execution_count": 11,
      "outputs": []
    },
    {
      "cell_type": "markdown",
      "source": [
        "**Calculate correlations**"
      ],
      "metadata": {
        "id": "CAgN4gqE0-Ng"
      }
    },
    {
      "cell_type": "code",
      "source": [
        "#Dictionary for stored iteratios and its positions\n",
        "dictPositions = {}\n",
        "\n",
        "#Define the first iteration equal to one\n",
        "iterations = 1\n",
        "\n",
        "#Loops to move reference matrix at search matrix\n",
        "for alpha in range(alphas):\n",
        "    for beta in range(betas):\n",
        "\n",
        "        #Verify coorelations methods\n",
        "        if (correlation != \"fCrossCovariance\") and (correlation != \"fCoeficientCovariance\"):\n",
        "\n",
        "            #Auxiliary list to stored value from position\n",
        "            aux = []\n",
        "\n",
        "            #List to store position of each pixel and assign later in the last dictionary\n",
        "            listPositions = []\n",
        "\n",
        "            #Acumulator to store correlation`s sum\n",
        "            acum = 0\n",
        "\n",
        "            #Loops to move inside reference matrix and search matrix\n",
        "            for i in range(Cr):\n",
        "                for j in range(Lr):\n",
        "\n",
        "                    #It`s checking which function was used\n",
        "\n",
        "                    if (correlation == \"fError\"):\n",
        "                        #Call function to specific correlation method\n",
        "                        values = fError(j, i, beta, alpha)\n",
        "                        #Append value from function at `aux` list\n",
        "                        aux.append(values)\n",
        "\n",
        "                    elif (correlation == \"fCrossCorrelation\"):\n",
        "                        #Call function to specific correlation method\n",
        "                        values = fCrossCorrelation(j, i, beta, alpha)\n",
        "                        #Append value from function at `aux` list\n",
        "                        aux.append(values)\n",
        "\n",
        "                    elif (correlation == \"fQuotient\"):\n",
        "                        #Call function to specific correlation method\n",
        "                        values = fQuotient(j, i, beta, alpha)\n",
        "                        #Append value from function at `aux` list\n",
        "                        aux.append(values)\n",
        "\n",
        "                    #It`s added in the list the position from each pixel in the search matrix\n",
        "                    listPositions.append(i+alpha)\n",
        "                    listPositions.append(j+beta)\n",
        "\n",
        "            #Add the iteration on the dictionary like `key` and the ist the\n",
        "            #position from each pixel in the search matrix like `value`\n",
        "            dictPositions[iterations] = listPositions\n",
        "\n",
        "            #Count a new iterartion\n",
        "            iterations += 1\n",
        "\n",
        "            #Calculate correlation\n",
        "            #Loop on each value auxiliar calculated\n",
        "            for value in aux:\n",
        "                #Sum and acumulated values\n",
        "                acum = acum + value\n",
        "\n",
        "            #Add correlation value inside correlation matrix\n",
        "            mCorrelation[alpha,beta] = acum\n",
        "\n",
        "#- - - - - - - - - - - - - - - - - - - - - - - - - - - - - - - - - - - - - - - -\n",
        "        #To cross - covariance function\n",
        "        elif (correlation == \"fCrossCovariance\"):\n",
        "\n",
        "            #Get the mean from reference matrix\n",
        "            meanR = matrixR.mean()\n",
        "\n",
        "            #List to store position of each pixel and assign later in the last dictionary\n",
        "            listPositions = []\n",
        "\n",
        "            #List to store values calculated from search matrix\n",
        "            auxP = []\n",
        "\n",
        "            #List to store values calculated from reference matrix\n",
        "            auxR = []\n",
        "\n",
        "            #Acumulator\n",
        "            acum = 0\n",
        "\n",
        "            for i in range(Cr):\n",
        "                for j in range(Lr):\n",
        "                    auxR.append(matrixR[i,j])\n",
        "                    auxP.append(matrixP[i+alpha,j+beta])\n",
        "\n",
        "                    #It`s added in the list the position from each pixel in the search matrix\n",
        "                    listPositions.append(i+alpha)\n",
        "                    listPositions.append(j+beta)\n",
        "\n",
        "            #Add the iteration on the dictionary like `key` and the ist the\n",
        "            #position from each pixel in the search matrix like `value`\n",
        "            dictPositions[iterations] = listPositions\n",
        "\n",
        "            #Count a new iterartion\n",
        "            iterations += 1\n",
        "\n",
        "            #Calculate the mean from search matrix\n",
        "            meanP = sum(auxP)/len(auxP)\n",
        "\n",
        "            #Finally, the cross - covariance function is calculated and its\n",
        "            #values already added in the acumulator\n",
        "            for x in range(len(auxP)):\n",
        "                acum = acum + ((auxR[x] - meanR) * (auxP[x] - meanP))\n",
        "\n",
        "            #Add correlation value inside correlation matrix\n",
        "            mCorrelation[alpha,beta] = acum\n",
        "\n",
        "#- - - - - - - - - - - - - - - - - - - - - - - - - - - - - - - - - - - - - - - -\n",
        "        #To coeficient of correlation function\n",
        "        elif (correlation == \"fCoeficientCovariance\"):\n",
        "\n",
        "                #Get the mean from reference matrix\n",
        "                meanR = matrixR.mean()\n",
        "\n",
        "                #List to store position of each pixel and assign later in the last dictionary\n",
        "                listPositions = []\n",
        "\n",
        "                #List to store values calculated from search matrix\n",
        "                auxP = []\n",
        "\n",
        "                #List to store values calculated from reference matrix\n",
        "                auxR = []\n",
        "\n",
        "                #Acumulators\n",
        "                numerator = 0\n",
        "                denominator1 = 0\n",
        "                denominator2 = 0\n",
        "\n",
        "\n",
        "                for i in range(Cr):\n",
        "                    for j in range(Lr):\n",
        "                        auxR.append(matrixR[i,j])\n",
        "                        auxP.append(matrixP[i+alpha,j+beta])\n",
        "\n",
        "                        #It`s added in the list the position from each pixel in the search matrix\n",
        "                        listPositions.append(i+alpha)\n",
        "                        listPositions.append(j+beta)\n",
        "\n",
        "                #Add the iteration on the dictionary like `key` and the ist the\n",
        "                #position from each pixel in the search matrix like `value`\n",
        "                dictPositions[iterations] = listPositions\n",
        "\n",
        "                #Count a new iterartion\n",
        "                iterations += 1\n",
        "\n",
        "                #Calculate the mean from search matrix\n",
        "                meanP = sum(auxP)/len(auxP)\n",
        "\n",
        "                #The numerator and denominators from coeficient of correlation\n",
        "                #function are calculated\n",
        "                for x in range(len(auxP)):\n",
        "                    numerator = numerator + ((auxR[x] - meanR) * (auxP[x] - meanP))\n",
        "                    denominator1 = denominator1 + ((auxR[x] - meanR)**2)\n",
        "                    denominator2 = denominator2 + ((auxP[x] - meanP)**2)\n",
        "\n",
        "                #Finally, it's calculated the complete formulation of coeficient\n",
        "                #of correlation function\n",
        "                acum = (numerator / math.sqrt(denominator1 * denominator2))\n",
        "\n",
        "                #Add correlation value inside correlation matrix\n",
        "                mCorrelation[alpha,beta] = acum"
      ],
      "metadata": {
        "id": "ieZPNBhg1I3B"
      },
      "execution_count": 12,
      "outputs": []
    },
    {
      "cell_type": "markdown",
      "source": [
        "**Get best correlation**"
      ],
      "metadata": {
        "id": "3Qnc9ZGV1Q61"
      }
    },
    {
      "cell_type": "markdown",
      "source": [
        "Error function work with minimum correlation value.\n",
        "\n",
        "\n"
      ],
      "metadata": {
        "id": "CMJZu2OXgTl1"
      }
    },
    {
      "cell_type": "code",
      "source": [
        "if (correlation == \"fError\"):\n",
        "\n",
        "    #Get the minimum value (better correlation) from correlation matrix\n",
        "    value = mCorrelation.min()\n",
        "\n",
        "    #Get the row wich that better correlation is positioned\n",
        "    row = np.where(mCorrelation == value)[0]\n",
        "\n",
        "    #Get the column wich that better correlation is positioned\n",
        "    column = np.where(mCorrelation == value)[1]\n",
        "\n",
        "    #Prints\n",
        "    print(\"The better correlation is\", float(value))\n",
        "    print(\"Its position is row equal\", float(row), \"and column equal\", float(column))"
      ],
      "metadata": {
        "id": "TQhvWuQVgMsW"
      },
      "execution_count": 13,
      "outputs": []
    },
    {
      "cell_type": "code",
      "source": [
        "print(mCorrelation.shape)"
      ],
      "metadata": {
        "colab": {
          "base_uri": "https://localhost:8080/"
        },
        "id": "NEO-BZ4ycZV4",
        "outputId": "e4a635b3-ad75-4471-e2af-b53f88773b25"
      },
      "execution_count": 14,
      "outputs": [
        {
          "output_type": "stream",
          "name": "stdout",
          "text": [
            "(3, 3)\n"
          ]
        }
      ]
    },
    {
      "cell_type": "markdown",
      "source": [
        "Quotient funtion work with correlation value closest to one."
      ],
      "metadata": {
        "id": "Aj2JG1bMgi4k"
      }
    },
    {
      "cell_type": "code",
      "source": [
        "if (correlation == \"fQuotient\"):\n",
        "\n",
        "  #Create an empty matrix with zero values to receive values from correlation matrix less one\n",
        "  quotientCalc = np.zeros([alphas, betas])\n",
        "\n",
        "  for alpha in range(alphas):\n",
        "      for beta in range(betas):\n",
        "        #remove one unit from each value\n",
        "        quotientCalc[alpha,beta] = abs(1 - mCorrelation[alpha,beta])\n",
        "\n",
        "  #Get the minimum value less one unit (better correlation) from correlation matrix\n",
        "  valueLessOne = quotientCalc.min()\n",
        "\n",
        "  #Get the row wich that better correlation  less one unit is positioned\n",
        "  row = np.where(quotientCalc == valueLessOne)[0]\n",
        "\n",
        "  #Get the column wich that better correlation  less one unit is positioned\n",
        "  column = np.where(quotientCalc == valueLessOne)[1]\n",
        "\n",
        "  #Get the value (better correlation) with positions calculated at correlation matrix\n",
        "  value = mCorrelation[row, column]\n",
        "\n",
        "  #Prints\n",
        "  print(\"The better correlation is\", float(value))\n",
        "  print(\"Its position is row equal\", float(row), \"and column equal\", float(column))\n",
        "  print(quotientCalc)"
      ],
      "metadata": {
        "id": "Vsvy_A3XchzU",
        "colab": {
          "base_uri": "https://localhost:8080/"
        },
        "outputId": "bda0d89c-495c-43c9-8428-4be3fbd25d20"
      },
      "execution_count": 15,
      "outputs": [
        {
          "output_type": "stream",
          "name": "stdout",
          "text": [
            "The better correlation is 4.039454226506656\n",
            "Its position is row equal 1.0 and column equal 1.0\n",
            "[[4.0464137  3.39955489 7.36815037]\n",
            " [5.16969473 3.03945423 6.30212145]\n",
            " [7.0090965  6.7968752  4.29136747]]\n"
          ]
        },
        {
          "output_type": "stream",
          "name": "stderr",
          "text": [
            "<ipython-input-15-724896900d9b>:24: DeprecationWarning: Conversion of an array with ndim > 0 to a scalar is deprecated, and will error in future. Ensure you extract a single element from your array before performing this operation. (Deprecated NumPy 1.25.)\n",
            "  print(\"The better correlation is\", float(value))\n",
            "<ipython-input-15-724896900d9b>:25: DeprecationWarning: Conversion of an array with ndim > 0 to a scalar is deprecated, and will error in future. Ensure you extract a single element from your array before performing this operation. (Deprecated NumPy 1.25.)\n",
            "  print(\"Its position is row equal\", float(row), \"and column equal\", float(column))\n"
          ]
        }
      ]
    },
    {
      "cell_type": "markdown",
      "source": [
        "Both Error function and Quotient funtion work with minimum correlation value. So, they are treated equals here."
      ],
      "metadata": {
        "id": "fgOUh5gz1WKv"
      }
    },
    {
      "cell_type": "code",
      "source": [
        "'''\n",
        "if ((correlation == \"fError\") or (correlation == \"fQuotient\")):\n",
        "\n",
        "    #Get the minimum value (better correlation) from correlation matrix\n",
        "    value = mCorrelation.min()\n",
        "\n",
        "    #Get the row wich that better correlation is positioned\n",
        "    row = np.where(mCorrelation == value)[0]\n",
        "\n",
        "    #Get the column wich that better correlation is positioned\n",
        "    column = np.where(mCorrelation == value)[1]\n",
        "\n",
        "    #Prints\n",
        "    print(\"The better correlation is\", float(value))\n",
        "    print(\"Its position is row equal\", float(row), \"and column equal\", float(column))\n",
        "'''"
      ],
      "metadata": {
        "id": "9qBnwxVy1UVz",
        "colab": {
          "base_uri": "https://localhost:8080/",
          "height": 70
        },
        "outputId": "a7c50df1-bd88-4cbc-c990-2e1fd8524cc8"
      },
      "execution_count": 16,
      "outputs": [
        {
          "output_type": "execute_result",
          "data": {
            "text/plain": [
              "'\\nif ((correlation == \"fError\") or (correlation == \"fQuotient\")):\\n\\n    #Get the minimum value (better correlation) from correlation matrix\\n    value = mCorrelation.min()\\n\\n    #Get the row wich that better correlation is positioned\\n    row = np.where(mCorrelation == value)[0]\\n\\n    #Get the column wich that better correlation is positioned\\n    column = np.where(mCorrelation == value)[1]\\n\\n    #Prints\\n    print(\"The better correlation is\", float(value))\\n    print(\"Its position is row equal\", float(row), \"and column equal\", float(column))\\n'"
            ],
            "application/vnd.google.colaboratory.intrinsic+json": {
              "type": "string"
            }
          },
          "metadata": {},
          "execution_count": 16
        }
      ]
    },
    {
      "cell_type": "markdown",
      "source": [
        "By another side, both Cross correlation function and Cross - covariance funtion work with maximum correlation value. So, they are treated equals here."
      ],
      "metadata": {
        "id": "xK1YH2vD1iEA"
      }
    },
    {
      "cell_type": "code",
      "source": [
        "if ((correlation == \"fCrossCorrelation\") or (correlation == \"fCrossCovariance\") or (correlation == \"fCoeficientCovariance\")):\n",
        "\n",
        "    #Get the maximum value (better correlation) from correlation matrix\n",
        "    value = mCorrelation.max()\n",
        "\n",
        "    ##Get the row wich that better correlation is positioned\n",
        "    row = np.where(mCorrelation == value)[0]\n",
        "\n",
        "    #Get the column wich that better correlation is positioned\n",
        "    column = np.where(mCorrelation == value)[1]\n",
        "\n",
        "    #Prints\n",
        "    print(\"The better correlation is\", float(value))\n",
        "    print(\"Its position is row equal\", float(row), \"and line column\", float(column))"
      ],
      "metadata": {
        "id": "sJAQ69ql1nAl"
      },
      "execution_count": 17,
      "outputs": []
    },
    {
      "cell_type": "markdown",
      "source": [
        "**Set the name from correlation function used in code to plot at the title**"
      ],
      "metadata": {
        "id": "-Vj59gar1w4g"
      }
    },
    {
      "cell_type": "code",
      "source": [
        "if (correlation == \"fError\"):\n",
        "    correlationName = \"error function\"\n",
        "elif (correlation == \"fCrossCorrelation\"):\n",
        "    correlationName = \"cross correlation function\"\n",
        "elif(correlation == \"fQuotient\"):\n",
        "    correlationName = \"quotient function\"\n",
        "elif(correlation == \"fCrossCovariance\"):\n",
        "    correlationName = \"cross covariance function\"\n",
        "elif(correlation == \"fCoeficientCovariance\"):\n",
        "    correlationName = \"coeficient of correlation function\""
      ],
      "metadata": {
        "id": "xulbL6zu1yD0"
      },
      "execution_count": 18,
      "outputs": []
    },
    {
      "cell_type": "markdown",
      "source": [
        "**Print correlation matrix**"
      ],
      "metadata": {
        "id": "luYfrrw_13OT"
      }
    },
    {
      "cell_type": "code",
      "source": [
        "print(mCorrelation)"
      ],
      "metadata": {
        "colab": {
          "base_uri": "https://localhost:8080/"
        },
        "id": "TnF80-ub14Xl",
        "outputId": "fa55da28-0c96-481d-8196-84917ceb8b3c"
      },
      "execution_count": 19,
      "outputs": [
        {
          "output_type": "stream",
          "name": "stdout",
          "text": [
            "[[5.0464137  4.39955489 8.36815037]\n",
            " [6.16969473 4.03945423 7.30212145]\n",
            " [8.0090965  7.7968752  5.29136747]]\n"
          ]
        }
      ]
    },
    {
      "cell_type": "markdown",
      "source": [
        "**Figures**\n",
        "\n",
        "1.   Distribuition of correlations by colors;\n",
        "2.   Iterations and its correlations;\n",
        "3.   Localization of reference matrix within the search matrix.\n",
        "\n"
      ],
      "metadata": {
        "id": "g640HslA197R"
      }
    },
    {
      "cell_type": "markdown",
      "source": [
        "**First figure - Distribuition of correlations by colors**"
      ],
      "metadata": {
        "id": "wG48rRfh2Tud"
      }
    },
    {
      "cell_type": "code",
      "source": [
        "#Set first figure\n",
        "fig = plt.figure()\n",
        "ax = fig.add_subplot(111)\n",
        "\n",
        "#Create matrix colored\n",
        "image = ax.matshow(mCorrelation, cmap=\"hot\")\n",
        "\n",
        "#Set title image\n",
        "#plt.title(\"Distribuition of correlations by colors using \" + correlationName)\n",
        "\n",
        "#Create the legend\n",
        "fig.colorbar(image)\n",
        "\n",
        "#Set the x and y labels\n",
        "plt.xlabel(\"Pixels\")\n",
        "plt.ylabel(\"Pixels\")\n",
        "\n",
        "#Save figure\n",
        "plt.savefig(\"Distribuicao de correlacao por coloracao usando \" + correlationName + \".png\", dpi=330)"
      ],
      "metadata": {
        "colab": {
          "base_uri": "https://localhost:8080/",
          "height": 454
        },
        "id": "Jft6RiJ62c6w",
        "outputId": "5bd5d3b0-2b6b-4ffb-e4d2-fe3e6cadfd72"
      },
      "execution_count": 20,
      "outputs": [
        {
          "output_type": "display_data",
          "data": {
            "text/plain": [
              "<Figure size 640x480 with 2 Axes>"
            ],
            "image/png": "[encoded data removed]"
          },
          "metadata": {}
        }
      ]
    },
    {
      "cell_type": "markdown",
      "source": [
        "**Second figure - Iterations and its correlations**"
      ],
      "metadata": {
        "id": "vyebR_LV2jwq"
      }
    },
    {
      "cell_type": "code",
      "source": [
        "#List to receive all correlation values\n",
        "listValuesMatrix = []\n",
        "\n",
        "for i in range(alphas):\n",
        "   for j in range(betas):\n",
        "       #Add all correlation values inside list\n",
        "      listValuesMatrix.append(mCorrelation[i,j])\n",
        "\n",
        "#List to stored a sequence of numbers\n",
        "sequence = []\n",
        "\n",
        "#Loop to create an sequence list of numbers that begin at 1 and end in the number of coorelations\n",
        "for x in range(1, len(listValuesMatrix)+1,1):\n",
        "   sequence.append(x)\n",
        "\n",
        "#Set second figure\n",
        "fig, ax = plt.subplots(1,1)\n",
        "\n",
        "#Get the index in the list of best correlation\n",
        "index = listValuesMatrix.index(value)\n",
        "\n",
        "#Use the index previously obtained and get the number of iteration referent of better correlation\n",
        "iterationss = sequence[index]\n",
        "\n",
        "print(\"The iteration \" + str(iterationss) + \" correspond the best correlation\")\n",
        "\n",
        "#Create a line graphic (iterations / correlations)\n",
        "plt.plot(sequence, listValuesMatrix)\n",
        "\n",
        "#Create a point graphic (best coorelation)\n",
        "plt.plot(iterationss, listValuesMatrix[index], \"ro\", label = \"Best correlation\")\n",
        "\n",
        "#Set legend\n",
        "plt.legend()\n",
        "\n",
        "#Set title image\n",
        "#plt.title(\"Iterations and its correlations using \" + correlationName)\n",
        "\n",
        "#Set the x and y labels\n",
        "plt.xlabel(\"Interpolations\")\n",
        "plt.ylabel(\"Correlation\")\n",
        "\n",
        "#Save figure\n",
        "plt.savefig(\"Iteracoes e suas correlacoes usando \" + correlationName + \".png\", dpi=330)"
      ],
      "metadata": {
        "colab": {
          "base_uri": "https://localhost:8080/",
          "height": 466
        },
        "id": "u1l3Zt7x2qKp",
        "outputId": "928f7364-89e2-4e2a-adc6-c13691a990d3"
      },
      "execution_count": 21,
      "outputs": [
        {
          "output_type": "stream",
          "name": "stdout",
          "text": [
            "The iteration 5 correspond the best correlation\n"
          ]
        },
        {
          "output_type": "display_data",
          "data": {
            "text/plain": [
              "<Figure size 640x480 with 1 Axes>"
            ],
            "image/png": "[encoded data removed]"
          },
          "metadata": {}
        }
      ]
    },
    {
      "cell_type": "markdown",
      "source": [
        "**Third figure - Localization of reference matrix within the search matrix**"
      ],
      "metadata": {
        "id": "hl_fbkLc2t4f"
      }
    },
    {
      "cell_type": "code",
      "source": [
        "#Create a zeros matrix with same size from search matrix\n",
        "positionCorrelation = np.zeros([Lp, Cp])\n",
        "\n",
        "#Get the list with positions (values) by its iteration wich occured the best correlation (key)\n",
        "listPositionss = dictPositions[iterationss]\n",
        "\n",
        "#Loop to acess the positions of best correlation in the search matrix and change its color\n",
        "for y in range(0,int(len(listPositionss)),2):\n",
        "    positionCorrelation[listPositionss[y], listPositionss[y+1]] = 255\n",
        "\n",
        "#Set third figure\n",
        "fig = plt.figure()\n",
        "ax = fig.add_subplot(111)\n",
        "\n",
        "#Create matrix colored\n",
        "image = ax.matshow(positionCorrelation, cmap=\"Greys\")\n",
        "\n",
        "#Set title image\n",
        "plt.title(\"Localization of reference matrix within the search matrix\")\n",
        "\n",
        "#Set color ticks\n",
        "plt.xticks(color='w')\n",
        "plt.yticks(color='w')\n",
        "\n",
        "#Adjust the ticks\n",
        "plt.xticks(np.arange(-0.5, Lp))\n",
        "plt.yticks(np.arange(-0.5, Cp))\n",
        "\n",
        "#Plot grid\n",
        "plt.grid()\n",
        "\n",
        "#Save figure\n",
        "plt.savefig(\"Localizacao e destaque da matrix de pesquisa na matriz de pesquisa utilizando \" + correlationName + \".png\", dpi=330)"
      ],
      "metadata": {
        "colab": {
          "base_uri": "https://localhost:8080/",
          "height": 461
        },
        "id": "cfuzNbu32zIy",
        "outputId": "9661f908-56c5-4452-9c68-62b95e21043b"
      },
      "execution_count": 22,
      "outputs": [
        {
          "output_type": "display_data",
          "data": {
            "text/plain": [
              "<Figure size 640x480 with 1 Axes>"
            ],
            "image/png": "[encoded data removed]"
          },
          "metadata": {}
        }
      ]
    },
    {
      "cell_type": "code",
      "source": [
        "np.savetxt('CorrelatioMatrix.txt', mCorrelation, fmt='%.2f')"
      ],
      "metadata": {
        "id": "7vNlz5graIuY"
      },
      "execution_count": 23,
      "outputs": []
    },
    {
      "cell_type": "markdown",
      "source": [
        "**---------------------------------------------------------------------**"
      ],
      "metadata": {
        "id": "VgA7X39cZ00T"
      }
    },
    {
      "cell_type": "markdown",
      "source": [
        "**Get values from reference matrix 'inside' search matrix**"
      ],
      "metadata": {
        "id": "KEpfoAOcN6Ck"
      }
    },
    {
      "cell_type": "code",
      "source": [
        "#Create an empty matrix with zeros with the size\n",
        "matrixReduceS = np.zeros([Lr, Cr])\n",
        "\n",
        "#Create empty lists to store positions of rows and columns respectivally\n",
        "rows = []\n",
        "columns = []\n",
        "\n",
        "#Get the list of positions for the best iteration\n",
        "listPositionss = dictPositions[iterationss]\n",
        "\n",
        "#To store positions from row and column at its specifics lists\n",
        "for y in range(0,int(len(listPositionss)),2):\n",
        "    rows.append(listPositionss[y])\n",
        "    columns.append(listPositionss[y+1])\n",
        "\n",
        "#Minimum and maximum position from rows\n",
        "minRow = min(rows)\n",
        "maxRow = max(rows)\n",
        "\n",
        "#Minimum and maximum position from columns\n",
        "minColumn = min(columns)\n",
        "maxColumn = max(columns)\n",
        "\n",
        "#print(minRow)\n",
        "#print(maxRow)\n",
        "#print(rows)\n",
        "#print(columns)\n",
        "\n",
        "#Recort the specific area at search matrix that it's 'equal' to reference matrix\n",
        "RecortmatrixP = matrixP[minRow:maxRow+1, minColumn:maxColumn+1]\n",
        "print(RecortmatrixP)\n"
      ],
      "metadata": {
        "colab": {
          "base_uri": "https://localhost:8080/"
        },
        "id": "VVbn_pQ3HP-4",
        "outputId": "1f996804-e687-4cd7-bd6c-e614d87b4a22"
      },
      "execution_count": 24,
      "outputs": [
        {
          "output_type": "stream",
          "name": "stdout",
          "text": [
            "[[ 45 172]\n",
            " [236  83]]\n"
          ]
        }
      ]
    },
    {
      "cell_type": "markdown",
      "source": [
        "**Convert matrix to TXT file**"
      ],
      "metadata": {
        "id": "6Puxxrjiugss"
      }
    },
    {
      "cell_type": "code",
      "source": [
        "np.savetxt('matrixInterval.txt', RecortmatrixP, fmt='%.0f')"
      ],
      "metadata": {
        "id": "0hbVBBGsri3v"
      },
      "execution_count": 25,
      "outputs": []
    },
    {
      "cell_type": "markdown",
      "source": [
        "**Read the file created before**"
      ],
      "metadata": {
        "id": "BhLlmb2euw-r"
      }
    },
    {
      "cell_type": "code",
      "source": [
        "with open('matrixInterval.txt') as txtFile:\n",
        "    matrix = txtFile.read()"
      ],
      "metadata": {
        "id": "EqsAnb0-tBKy"
      },
      "execution_count": 26,
      "outputs": []
    },
    {
      "cell_type": "markdown",
      "source": [
        "**Define header**"
      ],
      "metadata": {
        "id": "53eLgWKf5g7m"
      }
    },
    {
      "cell_type": "code",
      "source": [
        "headerr = \"P2\\n\" + \"# Created by IrfanView\\n\" + str(Lr)+ \" \" + str(Cr) + \"\\n255\\n\"\n"
      ],
      "metadata": {
        "id": "sAsSddjp_4jb"
      },
      "execution_count": 27,
      "outputs": []
    },
    {
      "cell_type": "markdown",
      "source": [
        "**To merge the two files readed and save just aat on TXT file**"
      ],
      "metadata": {
        "id": "B08JjuXnu4r5"
      }
    },
    {
      "cell_type": "code",
      "source": [
        "headerr += matrix\n",
        "\n",
        "with open ('IrfanView.pgm', 'w') as txtFile:\n",
        "    txtFile.write(headerr)"
      ],
      "metadata": {
        "id": "QK-VIBm1tVJp"
      },
      "execution_count": 28,
      "outputs": []
    }
  ]
}